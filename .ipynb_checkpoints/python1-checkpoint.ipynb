{
 "cells": [
  {
   "cell_type": "code",
   "execution_count": 1,
   "metadata": {},
   "outputs": [],
   "source": [
    "import pandas as pd\n",
    "import numpy as np\n",
    "import re\n",
    "\n"
   ]
  },
  {
   "cell_type": "code",
   "execution_count": 2,
   "metadata": {
    "scrolled": false
   },
   "outputs": [
    {
     "name": "stdout",
     "output_type": "stream",
     "text": [
      "  name  phone number\n",
      "0  aaa  919236548973\n",
      "1  sss    9875624134\n",
      "2  aaa     768767687\n",
      "3  rrr      76868767\n",
      "4  ppp    9876876787\n",
      "<bound method Series.unique of 0    aaa\n",
      "1    sss\n",
      "2    aaa\n",
      "3    rrr\n",
      "4    ppp\n",
      "Name: name, dtype: object>\n",
      "Valid Number\n",
      "Valid Number\n",
      "Invalid Number\n",
      "Invalid Number\n",
      "Valid Number\n"
     ]
    }
   ],
   "source": [
    "data = {'name': [\"aaa\", \"sss\",\"aaa\",\"rrr\",\"ppp\"], \n",
    "        'phone number': [\"919236548973\", \"9875624134\",\n",
    "                         \"768767687\",\"76868767\",\"9876876787\"]}\n",
    "data = pd.DataFrame(data)\n",
    "print data\n",
    "print data.name.unique\n",
    "\n",
    "\n",
    "def isValid(s): \n",
    "    Pattern = re.compile(\"(0/91)?[7-9][0-9]{9}\") \n",
    "    return Pattern.match(s) \n",
    "for i in range(0, 5):\n",
    "    s= data['phone number'][i]\n",
    "    if (isValid(s)):  \n",
    "        print (\"Valid Number\")      \n",
    "    else : \n",
    "        print (\"Invalid Number\")  "
   ]
  },
  {
   "cell_type": "code",
   "execution_count": 3,
   "metadata": {},
   "outputs": [
    {
     "name": "stdout",
     "output_type": "stream",
     "text": [
      "     Col1 Col2\n",
      "name    1    2\n",
      "Row2    3    4\n"
     ]
    }
   ],
   "source": [
    "data = np.array([['','Col1','Col2'],\n",
    "                ['name',1,2],\n",
    "                ['Row2',3,4]])\n",
    "                \n",
    "print(pd.DataFrame(data=data[1:,1:],\n",
    "                  index=data[1:,0],\n",
    "                  columns=data[0,1:]))"
   ]
  },
  {
   "cell_type": "code",
   "execution_count": 4,
   "metadata": {
    "scrolled": true
   },
   "outputs": [
    {
     "data": {
      "text/html": [
       "<div>\n",
       "<style scoped>\n",
       "    .dataframe tbody tr th:only-of-type {\n",
       "        vertical-align: middle;\n",
       "    }\n",
       "\n",
       "    .dataframe tbody tr th {\n",
       "        vertical-align: top;\n",
       "    }\n",
       "\n",
       "    .dataframe thead th {\n",
       "        text-align: right;\n",
       "    }\n",
       "</style>\n",
       "<table border=\"1\" class=\"dataframe\">\n",
       "  <thead>\n",
       "    <tr style=\"text-align: right;\">\n",
       "      <th></th>\n",
       "      <th>age</th>\n",
       "      <th>height</th>\n",
       "      <th>weight</th>\n",
       "    </tr>\n",
       "  </thead>\n",
       "  <tbody>\n",
       "    <tr>\n",
       "      <th>0</th>\n",
       "      <td>3</td>\n",
       "      <td>94</td>\n",
       "      <td>31</td>\n",
       "    </tr>\n",
       "    <tr>\n",
       "      <th>1</th>\n",
       "      <td>29</td>\n",
       "      <td>170</td>\n",
       "      <td>115</td>\n",
       "    </tr>\n",
       "    <tr>\n",
       "      <th>2</th>\n",
       "      <td>5</td>\n",
       "      <td>6</td>\n",
       "      <td>40</td>\n",
       "    </tr>\n",
       "    <tr>\n",
       "      <th>3</th>\n",
       "      <td>7</td>\n",
       "      <td>8</td>\n",
       "      <td>50</td>\n",
       "    </tr>\n",
       "    <tr>\n",
       "      <th>4</th>\n",
       "      <td>3</td>\n",
       "      <td>4</td>\n",
       "      <td>59</td>\n",
       "    </tr>\n",
       "  </tbody>\n",
       "</table>\n",
       "</div>"
      ],
      "text/plain": [
       "   age  height  weight\n",
       "0    3      94      31\n",
       "1   29     170     115\n",
       "2    5       6      40\n",
       "3    7       8      50\n",
       "4    3       4      59"
      ]
     },
     "execution_count": 4,
     "metadata": {},
     "output_type": "execute_result"
    }
   ],
   "source": [
    "df = pd.DataFrame({\n",
    "                   'height': [94, 170],\n",
    "                    'age':    [ 3,  29],\n",
    "                    'weight': [31, 115]})\n",
    "\n",
    "# print df.dtypes\n",
    "df2 = pd.DataFrame([[5, 6,40],\n",
    "                   [7, 8,50],\n",
    "                   [3,4,59]\n",
    "                ],columns=['age','height','weight'])\n",
    "df=df.append(df2,ignore_index=True)\n",
    "df"
   ]
  },
  {
   "cell_type": "code",
   "execution_count": 6,
   "metadata": {},
   "outputs": [
    {
     "data": {
      "text/plain": [
       "3"
      ]
     },
     "execution_count": 6,
     "metadata": {},
     "output_type": "execute_result"
    }
   ],
   "source": [
    "df=df[['age','height']]\n",
    "x=df['age'].min()\n",
    "x"
   ]
  },
  {
   "cell_type": "code",
   "execution_count": 5,
   "metadata": {},
   "outputs": [
    {
     "name": "stdout",
     "output_type": "stream",
     "text": [
      "0\n",
      "1\n",
      "3\n",
      "6\n",
      "10\n",
      "('The count is:', 10)\n"
     ]
    }
   ],
   "source": [
    "count=0\n",
    "for number in range(5):\n",
    "    count = count + number\n",
    "    print(count)\n",
    "print(\"The count is:\", count)"
   ]
  },
  {
   "cell_type": "code",
   "execution_count": 7,
   "metadata": {},
   "outputs": [
    {
     "data": {
      "text/html": [
       "<div>\n",
       "<style scoped>\n",
       "    .dataframe tbody tr th:only-of-type {\n",
       "        vertical-align: middle;\n",
       "    }\n",
       "\n",
       "    .dataframe tbody tr th {\n",
       "        vertical-align: top;\n",
       "    }\n",
       "\n",
       "    .dataframe thead th {\n",
       "        text-align: right;\n",
       "    }\n",
       "</style>\n",
       "<table border=\"1\" class=\"dataframe\">\n",
       "  <thead>\n",
       "    <tr style=\"text-align: right;\">\n",
       "      <th></th>\n",
       "      <th>age</th>\n",
       "      <th>height</th>\n",
       "    </tr>\n",
       "  </thead>\n",
       "  <tbody>\n",
       "    <tr>\n",
       "      <th>1</th>\n",
       "      <td>29</td>\n",
       "      <td>170</td>\n",
       "    </tr>\n",
       "    <tr>\n",
       "      <th>0</th>\n",
       "      <td>3</td>\n",
       "      <td>94</td>\n",
       "    </tr>\n",
       "    <tr>\n",
       "      <th>3</th>\n",
       "      <td>7</td>\n",
       "      <td>8</td>\n",
       "    </tr>\n",
       "    <tr>\n",
       "      <th>2</th>\n",
       "      <td>5</td>\n",
       "      <td>6</td>\n",
       "    </tr>\n",
       "    <tr>\n",
       "      <th>4</th>\n",
       "      <td>3</td>\n",
       "      <td>4</td>\n",
       "    </tr>\n",
       "  </tbody>\n",
       "</table>\n",
       "</div>"
      ],
      "text/plain": [
       "   age  height\n",
       "1   29     170\n",
       "0    3      94\n",
       "3    7       8\n",
       "2    5       6\n",
       "4    3       4"
      ]
     },
     "execution_count": 7,
     "metadata": {},
     "output_type": "execute_result"
    }
   ],
   "source": [
    "df.sort_values([\"height\"], axis=0, ascending=False)"
   ]
  },
  {
   "cell_type": "code",
   "execution_count": 8,
   "metadata": {},
   "outputs": [
    {
     "data": {
      "text/plain": [
       "age       5\n",
       "height    5\n",
       "dtype: int64"
      ]
     },
     "execution_count": 8,
     "metadata": {},
     "output_type": "execute_result"
    }
   ],
   "source": [
    "df.count()"
   ]
  },
  {
   "cell_type": "code",
   "execution_count": 9,
   "metadata": {},
   "outputs": [
    {
     "name": "stdout",
     "output_type": "stream",
     "text": [
      "This is a valid email address\n"
     ]
    }
   ],
   "source": [
    "import re\n",
    "def isValidEmail(email):\n",
    "    if len(email) > 7:\n",
    "        if re.match(\"^.+@[a-zA-Z0-9]+[.]{1,2}[a-zA-Z0-9]+$\", email) != None:\n",
    "             return True\n",
    "        return False\n",
    "if isValidEmail(\"my.email@gmail.com\") == True :\n",
    "    print(\"This is a valid email address\")\n",
    "else:\n",
    "    print(\"This is not a valid email address\")"
   ]
  },
  {
   "cell_type": "code",
   "execution_count": 10,
   "metadata": {},
   "outputs": [
    {
     "data": {
      "text/html": [
       "<div>\n",
       "<style scoped>\n",
       "    .dataframe tbody tr th:only-of-type {\n",
       "        vertical-align: middle;\n",
       "    }\n",
       "\n",
       "    .dataframe tbody tr th {\n",
       "        vertical-align: top;\n",
       "    }\n",
       "\n",
       "    .dataframe thead th {\n",
       "        text-align: right;\n",
       "    }\n",
       "</style>\n",
       "<table border=\"1\" class=\"dataframe\">\n",
       "  <thead>\n",
       "    <tr style=\"text-align: right;\">\n",
       "      <th></th>\n",
       "      <th>Transaction_date</th>\n",
       "      <th>Product</th>\n",
       "      <th>Price</th>\n",
       "      <th>Payment_Type</th>\n",
       "      <th>Name</th>\n",
       "      <th>city</th>\n",
       "      <th>State</th>\n",
       "      <th>Country</th>\n",
       "      <th>Account_Created</th>\n",
       "      <th>Last_Login</th>\n",
       "      <th>...</th>\n",
       "      <th>Longitude</th>\n",
       "      <th>permalink</th>\n",
       "      <th>company</th>\n",
       "      <th>numEmps</th>\n",
       "      <th>category</th>\n",
       "      <th>state</th>\n",
       "      <th>fundedDate</th>\n",
       "      <th>raisedAmt</th>\n",
       "      <th>raisedCurrency</th>\n",
       "      <th>round</th>\n",
       "    </tr>\n",
       "  </thead>\n",
       "  <tbody>\n",
       "    <tr>\n",
       "      <th>0</th>\n",
       "      <td>1/12/09 1:37</td>\n",
       "      <td>Product1</td>\n",
       "      <td>1200</td>\n",
       "      <td>Visa</td>\n",
       "      <td>IMAN</td>\n",
       "      <td>Brisbane</td>\n",
       "      <td>Queensland</td>\n",
       "      <td>Australia</td>\n",
       "      <td>1/12/09 1:26</td>\n",
       "      <td>1/15/09 17:54</td>\n",
       "      <td>...</td>\n",
       "      <td>153.016667</td>\n",
       "      <td>glammedia</td>\n",
       "      <td>Glam Media</td>\n",
       "      <td>NaN</td>\n",
       "      <td>web</td>\n",
       "      <td>CA</td>\n",
       "      <td>1-Jul-04</td>\n",
       "      <td>1100000</td>\n",
       "      <td>USD</td>\n",
       "      <td>a</td>\n",
       "    </tr>\n",
       "    <tr>\n",
       "      <th>1</th>\n",
       "      <td>1/12/09 1:37</td>\n",
       "      <td>Product1</td>\n",
       "      <td>1200</td>\n",
       "      <td>Visa</td>\n",
       "      <td>IMAN</td>\n",
       "      <td>Brisbane</td>\n",
       "      <td>Queensland</td>\n",
       "      <td>Australia</td>\n",
       "      <td>1/12/09 1:26</td>\n",
       "      <td>1/15/09 17:54</td>\n",
       "      <td>...</td>\n",
       "      <td>153.016667</td>\n",
       "      <td>glammedia</td>\n",
       "      <td>Glam Media</td>\n",
       "      <td>NaN</td>\n",
       "      <td>web</td>\n",
       "      <td>CA</td>\n",
       "      <td>1-Jul-05</td>\n",
       "      <td>10000000</td>\n",
       "      <td>USD</td>\n",
       "      <td>b</td>\n",
       "    </tr>\n",
       "    <tr>\n",
       "      <th>2</th>\n",
       "      <td>1/12/09 1:37</td>\n",
       "      <td>Product1</td>\n",
       "      <td>1200</td>\n",
       "      <td>Visa</td>\n",
       "      <td>IMAN</td>\n",
       "      <td>Brisbane</td>\n",
       "      <td>Queensland</td>\n",
       "      <td>Australia</td>\n",
       "      <td>1/12/09 1:26</td>\n",
       "      <td>1/15/09 17:54</td>\n",
       "      <td>...</td>\n",
       "      <td>153.016667</td>\n",
       "      <td>glammedia</td>\n",
       "      <td>Glam Media</td>\n",
       "      <td>NaN</td>\n",
       "      <td>web</td>\n",
       "      <td>CA</td>\n",
       "      <td>1-Dec-06</td>\n",
       "      <td>18500000</td>\n",
       "      <td>USD</td>\n",
       "      <td>c</td>\n",
       "    </tr>\n",
       "    <tr>\n",
       "      <th>3</th>\n",
       "      <td>1/12/09 1:37</td>\n",
       "      <td>Product1</td>\n",
       "      <td>1200</td>\n",
       "      <td>Visa</td>\n",
       "      <td>IMAN</td>\n",
       "      <td>Brisbane</td>\n",
       "      <td>Queensland</td>\n",
       "      <td>Australia</td>\n",
       "      <td>1/12/09 1:26</td>\n",
       "      <td>1/15/09 17:54</td>\n",
       "      <td>...</td>\n",
       "      <td>153.016667</td>\n",
       "      <td>glammedia</td>\n",
       "      <td>Glam Media</td>\n",
       "      <td>NaN</td>\n",
       "      <td>web</td>\n",
       "      <td>CA</td>\n",
       "      <td>1-Feb-08</td>\n",
       "      <td>65000000</td>\n",
       "      <td>USD</td>\n",
       "      <td>d</td>\n",
       "    </tr>\n",
       "    <tr>\n",
       "      <th>4</th>\n",
       "      <td>1/12/09 1:37</td>\n",
       "      <td>Product1</td>\n",
       "      <td>1200</td>\n",
       "      <td>Visa</td>\n",
       "      <td>IMAN</td>\n",
       "      <td>Brisbane</td>\n",
       "      <td>Queensland</td>\n",
       "      <td>Australia</td>\n",
       "      <td>1/12/09 1:26</td>\n",
       "      <td>1/15/09 17:54</td>\n",
       "      <td>...</td>\n",
       "      <td>153.016667</td>\n",
       "      <td>glammedia</td>\n",
       "      <td>Glam Media</td>\n",
       "      <td>NaN</td>\n",
       "      <td>web</td>\n",
       "      <td>CA</td>\n",
       "      <td>1-Feb-08</td>\n",
       "      <td>20000000</td>\n",
       "      <td>USD</td>\n",
       "      <td>d</td>\n",
       "    </tr>\n",
       "    <tr>\n",
       "      <th>5</th>\n",
       "      <td>1/23/09 21:35</td>\n",
       "      <td>Product1</td>\n",
       "      <td>1200</td>\n",
       "      <td>Visa</td>\n",
       "      <td>Ann</td>\n",
       "      <td>Brisbane</td>\n",
       "      <td>Queensland</td>\n",
       "      <td>Australia</td>\n",
       "      <td>4/21/07 19:33</td>\n",
       "      <td>2/18/09 23:12</td>\n",
       "      <td>...</td>\n",
       "      <td>153.016667</td>\n",
       "      <td>glammedia</td>\n",
       "      <td>Glam Media</td>\n",
       "      <td>NaN</td>\n",
       "      <td>web</td>\n",
       "      <td>CA</td>\n",
       "      <td>1-Jul-04</td>\n",
       "      <td>1100000</td>\n",
       "      <td>USD</td>\n",
       "      <td>a</td>\n",
       "    </tr>\n",
       "    <tr>\n",
       "      <th>6</th>\n",
       "      <td>1/23/09 21:35</td>\n",
       "      <td>Product1</td>\n",
       "      <td>1200</td>\n",
       "      <td>Visa</td>\n",
       "      <td>Ann</td>\n",
       "      <td>Brisbane</td>\n",
       "      <td>Queensland</td>\n",
       "      <td>Australia</td>\n",
       "      <td>4/21/07 19:33</td>\n",
       "      <td>2/18/09 23:12</td>\n",
       "      <td>...</td>\n",
       "      <td>153.016667</td>\n",
       "      <td>glammedia</td>\n",
       "      <td>Glam Media</td>\n",
       "      <td>NaN</td>\n",
       "      <td>web</td>\n",
       "      <td>CA</td>\n",
       "      <td>1-Jul-05</td>\n",
       "      <td>10000000</td>\n",
       "      <td>USD</td>\n",
       "      <td>b</td>\n",
       "    </tr>\n",
       "    <tr>\n",
       "      <th>7</th>\n",
       "      <td>1/23/09 21:35</td>\n",
       "      <td>Product1</td>\n",
       "      <td>1200</td>\n",
       "      <td>Visa</td>\n",
       "      <td>Ann</td>\n",
       "      <td>Brisbane</td>\n",
       "      <td>Queensland</td>\n",
       "      <td>Australia</td>\n",
       "      <td>4/21/07 19:33</td>\n",
       "      <td>2/18/09 23:12</td>\n",
       "      <td>...</td>\n",
       "      <td>153.016667</td>\n",
       "      <td>glammedia</td>\n",
       "      <td>Glam Media</td>\n",
       "      <td>NaN</td>\n",
       "      <td>web</td>\n",
       "      <td>CA</td>\n",
       "      <td>1-Dec-06</td>\n",
       "      <td>18500000</td>\n",
       "      <td>USD</td>\n",
       "      <td>c</td>\n",
       "    </tr>\n",
       "    <tr>\n",
       "      <th>8</th>\n",
       "      <td>1/23/09 21:35</td>\n",
       "      <td>Product1</td>\n",
       "      <td>1200</td>\n",
       "      <td>Visa</td>\n",
       "      <td>Ann</td>\n",
       "      <td>Brisbane</td>\n",
       "      <td>Queensland</td>\n",
       "      <td>Australia</td>\n",
       "      <td>4/21/07 19:33</td>\n",
       "      <td>2/18/09 23:12</td>\n",
       "      <td>...</td>\n",
       "      <td>153.016667</td>\n",
       "      <td>glammedia</td>\n",
       "      <td>Glam Media</td>\n",
       "      <td>NaN</td>\n",
       "      <td>web</td>\n",
       "      <td>CA</td>\n",
       "      <td>1-Feb-08</td>\n",
       "      <td>65000000</td>\n",
       "      <td>USD</td>\n",
       "      <td>d</td>\n",
       "    </tr>\n",
       "    <tr>\n",
       "      <th>9</th>\n",
       "      <td>1/23/09 21:35</td>\n",
       "      <td>Product1</td>\n",
       "      <td>1200</td>\n",
       "      <td>Visa</td>\n",
       "      <td>Ann</td>\n",
       "      <td>Brisbane</td>\n",
       "      <td>Queensland</td>\n",
       "      <td>Australia</td>\n",
       "      <td>4/21/07 19:33</td>\n",
       "      <td>2/18/09 23:12</td>\n",
       "      <td>...</td>\n",
       "      <td>153.016667</td>\n",
       "      <td>glammedia</td>\n",
       "      <td>Glam Media</td>\n",
       "      <td>NaN</td>\n",
       "      <td>web</td>\n",
       "      <td>CA</td>\n",
       "      <td>1-Feb-08</td>\n",
       "      <td>20000000</td>\n",
       "      <td>USD</td>\n",
       "      <td>d</td>\n",
       "    </tr>\n",
       "    <tr>\n",
       "      <th>10</th>\n",
       "      <td>1/18/09 10:42</td>\n",
       "      <td>Product1</td>\n",
       "      <td>1200</td>\n",
       "      <td>Visa</td>\n",
       "      <td>malin</td>\n",
       "      <td>Atlanta</td>\n",
       "      <td>Georgia</td>\n",
       "      <td>United States</td>\n",
       "      <td>1/18/09 0:00</td>\n",
       "      <td>1/20/09 11:09</td>\n",
       "      <td>...</td>\n",
       "      <td>-84.388060</td>\n",
       "      <td>vitrue</td>\n",
       "      <td>Vitrue</td>\n",
       "      <td>NaN</td>\n",
       "      <td>web</td>\n",
       "      <td>GA</td>\n",
       "      <td>1-Oct-07</td>\n",
       "      <td>10000000</td>\n",
       "      <td>USD</td>\n",
       "      <td>b</td>\n",
       "    </tr>\n",
       "    <tr>\n",
       "      <th>11</th>\n",
       "      <td>1/18/09 10:42</td>\n",
       "      <td>Product1</td>\n",
       "      <td>1200</td>\n",
       "      <td>Visa</td>\n",
       "      <td>malin</td>\n",
       "      <td>Atlanta</td>\n",
       "      <td>Georgia</td>\n",
       "      <td>United States</td>\n",
       "      <td>1/18/09 0:00</td>\n",
       "      <td>1/20/09 11:09</td>\n",
       "      <td>...</td>\n",
       "      <td>-84.388060</td>\n",
       "      <td>vitrue</td>\n",
       "      <td>Vitrue</td>\n",
       "      <td>NaN</td>\n",
       "      <td>web</td>\n",
       "      <td>GA</td>\n",
       "      <td>1-May-06</td>\n",
       "      <td>2200000</td>\n",
       "      <td>USD</td>\n",
       "      <td>seed</td>\n",
       "    </tr>\n",
       "    <tr>\n",
       "      <th>12</th>\n",
       "      <td>1/18/09 10:42</td>\n",
       "      <td>Product1</td>\n",
       "      <td>1200</td>\n",
       "      <td>Visa</td>\n",
       "      <td>malin</td>\n",
       "      <td>Atlanta</td>\n",
       "      <td>Georgia</td>\n",
       "      <td>United States</td>\n",
       "      <td>1/18/09 0:00</td>\n",
       "      <td>1/20/09 11:09</td>\n",
       "      <td>...</td>\n",
       "      <td>-84.388060</td>\n",
       "      <td>screamingsports</td>\n",
       "      <td>Screaming Sports</td>\n",
       "      <td>NaN</td>\n",
       "      <td>web</td>\n",
       "      <td>GA</td>\n",
       "      <td>1-Jul-07</td>\n",
       "      <td>1250000</td>\n",
       "      <td>USD</td>\n",
       "      <td>a</td>\n",
       "    </tr>\n",
       "    <tr>\n",
       "      <th>13</th>\n",
       "      <td>1/18/09 10:42</td>\n",
       "      <td>Product1</td>\n",
       "      <td>1200</td>\n",
       "      <td>Visa</td>\n",
       "      <td>malin</td>\n",
       "      <td>Atlanta</td>\n",
       "      <td>Georgia</td>\n",
       "      <td>United States</td>\n",
       "      <td>1/18/09 0:00</td>\n",
       "      <td>1/20/09 11:09</td>\n",
       "      <td>...</td>\n",
       "      <td>-84.388060</td>\n",
       "      <td>berecruited</td>\n",
       "      <td>beRecruited</td>\n",
       "      <td>NaN</td>\n",
       "      <td>web</td>\n",
       "      <td>GA</td>\n",
       "      <td>1-Nov-07</td>\n",
       "      <td>1200000</td>\n",
       "      <td>USD</td>\n",
       "      <td>a</td>\n",
       "    </tr>\n",
       "    <tr>\n",
       "      <th>14</th>\n",
       "      <td>1/18/09 10:42</td>\n",
       "      <td>Product1</td>\n",
       "      <td>1200</td>\n",
       "      <td>Visa</td>\n",
       "      <td>malin</td>\n",
       "      <td>Atlanta</td>\n",
       "      <td>Georgia</td>\n",
       "      <td>United States</td>\n",
       "      <td>1/18/09 0:00</td>\n",
       "      <td>1/20/09 11:09</td>\n",
       "      <td>...</td>\n",
       "      <td>-84.388060</td>\n",
       "      <td>mfg</td>\n",
       "      <td>MFG</td>\n",
       "      <td>NaN</td>\n",
       "      <td>web</td>\n",
       "      <td>GA</td>\n",
       "      <td>1-Sep-05</td>\n",
       "      <td>14000000</td>\n",
       "      <td>USD</td>\n",
       "      <td>a</td>\n",
       "    </tr>\n",
       "    <tr>\n",
       "      <th>15</th>\n",
       "      <td>1/18/09 10:42</td>\n",
       "      <td>Product1</td>\n",
       "      <td>1200</td>\n",
       "      <td>Visa</td>\n",
       "      <td>malin</td>\n",
       "      <td>Atlanta</td>\n",
       "      <td>Georgia</td>\n",
       "      <td>United States</td>\n",
       "      <td>1/18/09 0:00</td>\n",
       "      <td>1/20/09 11:09</td>\n",
       "      <td>...</td>\n",
       "      <td>-84.388060</td>\n",
       "      <td>mfg</td>\n",
       "      <td>MFG</td>\n",
       "      <td>NaN</td>\n",
       "      <td>web</td>\n",
       "      <td>GA</td>\n",
       "      <td>1-Jan-07</td>\n",
       "      <td>4000000</td>\n",
       "      <td>USD</td>\n",
       "      <td>c</td>\n",
       "    </tr>\n",
       "    <tr>\n",
       "      <th>16</th>\n",
       "      <td>1/18/09 10:42</td>\n",
       "      <td>Product1</td>\n",
       "      <td>1200</td>\n",
       "      <td>Visa</td>\n",
       "      <td>malin</td>\n",
       "      <td>Atlanta</td>\n",
       "      <td>Georgia</td>\n",
       "      <td>United States</td>\n",
       "      <td>1/18/09 0:00</td>\n",
       "      <td>1/20/09 11:09</td>\n",
       "      <td>...</td>\n",
       "      <td>-84.388060</td>\n",
       "      <td>mfg</td>\n",
       "      <td>MFG</td>\n",
       "      <td>NaN</td>\n",
       "      <td>web</td>\n",
       "      <td>GA</td>\n",
       "      <td>1-Jan-08</td>\n",
       "      <td>26000000</td>\n",
       "      <td>USD</td>\n",
       "      <td>d</td>\n",
       "    </tr>\n",
       "    <tr>\n",
       "      <th>17</th>\n",
       "      <td>1/18/09 10:42</td>\n",
       "      <td>Product1</td>\n",
       "      <td>1200</td>\n",
       "      <td>Visa</td>\n",
       "      <td>malin</td>\n",
       "      <td>Atlanta</td>\n",
       "      <td>Georgia</td>\n",
       "      <td>United States</td>\n",
       "      <td>1/18/09 0:00</td>\n",
       "      <td>1/20/09 11:09</td>\n",
       "      <td>...</td>\n",
       "      <td>-84.388060</td>\n",
       "      <td>scintella-solutions</td>\n",
       "      <td>Scintella Solutions</td>\n",
       "      <td>2.0</td>\n",
       "      <td>consulting</td>\n",
       "      <td>GA</td>\n",
       "      <td>30-Apr-08</td>\n",
       "      <td>10000</td>\n",
       "      <td>USD</td>\n",
       "      <td>seed</td>\n",
       "    </tr>\n",
       "    <tr>\n",
       "      <th>18</th>\n",
       "      <td>1/16/09 1:51</td>\n",
       "      <td>Product1</td>\n",
       "      <td>1200</td>\n",
       "      <td>Visa</td>\n",
       "      <td>Angela</td>\n",
       "      <td>Vienna</td>\n",
       "      <td>Vienna</td>\n",
       "      <td>Austria</td>\n",
       "      <td>1/16/09 1:38</td>\n",
       "      <td>1/24/09 5:39</td>\n",
       "      <td>...</td>\n",
       "      <td>16.366667</td>\n",
       "      <td>parature</td>\n",
       "      <td>Parature</td>\n",
       "      <td>100.0</td>\n",
       "      <td>software</td>\n",
       "      <td>VA</td>\n",
       "      <td>5-Jul-06</td>\n",
       "      <td>13500000</td>\n",
       "      <td>USD</td>\n",
       "      <td>a</td>\n",
       "    </tr>\n",
       "    <tr>\n",
       "      <th>19</th>\n",
       "      <td>1/16/09 1:51</td>\n",
       "      <td>Product1</td>\n",
       "      <td>1200</td>\n",
       "      <td>Visa</td>\n",
       "      <td>Angela</td>\n",
       "      <td>Vienna</td>\n",
       "      <td>Vienna</td>\n",
       "      <td>Austria</td>\n",
       "      <td>1/16/09 1:38</td>\n",
       "      <td>1/24/09 5:39</td>\n",
       "      <td>...</td>\n",
       "      <td>16.366667</td>\n",
       "      <td>parature</td>\n",
       "      <td>Parature</td>\n",
       "      <td>100.0</td>\n",
       "      <td>software</td>\n",
       "      <td>VA</td>\n",
       "      <td>7-May-08</td>\n",
       "      <td>16000000</td>\n",
       "      <td>USD</td>\n",
       "      <td>b</td>\n",
       "    </tr>\n",
       "    <tr>\n",
       "      <th>20</th>\n",
       "      <td>1/16/09 1:51</td>\n",
       "      <td>Product1</td>\n",
       "      <td>1200</td>\n",
       "      <td>Visa</td>\n",
       "      <td>Angela</td>\n",
       "      <td>Vienna</td>\n",
       "      <td>Vienna</td>\n",
       "      <td>Austria</td>\n",
       "      <td>1/16/09 1:38</td>\n",
       "      <td>1/24/09 5:39</td>\n",
       "      <td>...</td>\n",
       "      <td>16.366667</td>\n",
       "      <td>appian</td>\n",
       "      <td>Appian</td>\n",
       "      <td>120.0</td>\n",
       "      <td>software</td>\n",
       "      <td>VA</td>\n",
       "      <td>21-Jul-08</td>\n",
       "      <td>10000000</td>\n",
       "      <td>USD</td>\n",
       "      <td>a</td>\n",
       "    </tr>\n",
       "  </tbody>\n",
       "</table>\n",
       "<p>21 rows × 21 columns</p>\n",
       "</div>"
      ],
      "text/plain": [
       "   Transaction_date   Product  Price Payment_Type    Name      city  \\\n",
       "0      1/12/09 1:37  Product1   1200         Visa    IMAN  Brisbane   \n",
       "1      1/12/09 1:37  Product1   1200         Visa    IMAN  Brisbane   \n",
       "2      1/12/09 1:37  Product1   1200         Visa    IMAN  Brisbane   \n",
       "3      1/12/09 1:37  Product1   1200         Visa    IMAN  Brisbane   \n",
       "4      1/12/09 1:37  Product1   1200         Visa    IMAN  Brisbane   \n",
       "5     1/23/09 21:35  Product1   1200         Visa     Ann  Brisbane   \n",
       "6     1/23/09 21:35  Product1   1200         Visa     Ann  Brisbane   \n",
       "7     1/23/09 21:35  Product1   1200         Visa     Ann  Brisbane   \n",
       "8     1/23/09 21:35  Product1   1200         Visa     Ann  Brisbane   \n",
       "9     1/23/09 21:35  Product1   1200         Visa     Ann  Brisbane   \n",
       "10    1/18/09 10:42  Product1   1200         Visa   malin   Atlanta   \n",
       "11    1/18/09 10:42  Product1   1200         Visa   malin   Atlanta   \n",
       "12    1/18/09 10:42  Product1   1200         Visa   malin   Atlanta   \n",
       "13    1/18/09 10:42  Product1   1200         Visa   malin   Atlanta   \n",
       "14    1/18/09 10:42  Product1   1200         Visa   malin   Atlanta   \n",
       "15    1/18/09 10:42  Product1   1200         Visa   malin   Atlanta   \n",
       "16    1/18/09 10:42  Product1   1200         Visa   malin   Atlanta   \n",
       "17    1/18/09 10:42  Product1   1200         Visa   malin   Atlanta   \n",
       "18     1/16/09 1:51  Product1   1200         Visa  Angela    Vienna   \n",
       "19     1/16/09 1:51  Product1   1200         Visa  Angela    Vienna   \n",
       "20     1/16/09 1:51  Product1   1200         Visa  Angela    Vienna   \n",
       "\n",
       "         State        Country Account_Created     Last_Login  ...   Longitude  \\\n",
       "0   Queensland      Australia    1/12/09 1:26  1/15/09 17:54  ...  153.016667   \n",
       "1   Queensland      Australia    1/12/09 1:26  1/15/09 17:54  ...  153.016667   \n",
       "2   Queensland      Australia    1/12/09 1:26  1/15/09 17:54  ...  153.016667   \n",
       "3   Queensland      Australia    1/12/09 1:26  1/15/09 17:54  ...  153.016667   \n",
       "4   Queensland      Australia    1/12/09 1:26  1/15/09 17:54  ...  153.016667   \n",
       "5   Queensland      Australia   4/21/07 19:33  2/18/09 23:12  ...  153.016667   \n",
       "6   Queensland      Australia   4/21/07 19:33  2/18/09 23:12  ...  153.016667   \n",
       "7   Queensland      Australia   4/21/07 19:33  2/18/09 23:12  ...  153.016667   \n",
       "8   Queensland      Australia   4/21/07 19:33  2/18/09 23:12  ...  153.016667   \n",
       "9   Queensland      Australia   4/21/07 19:33  2/18/09 23:12  ...  153.016667   \n",
       "10     Georgia  United States    1/18/09 0:00  1/20/09 11:09  ...  -84.388060   \n",
       "11     Georgia  United States    1/18/09 0:00  1/20/09 11:09  ...  -84.388060   \n",
       "12     Georgia  United States    1/18/09 0:00  1/20/09 11:09  ...  -84.388060   \n",
       "13     Georgia  United States    1/18/09 0:00  1/20/09 11:09  ...  -84.388060   \n",
       "14     Georgia  United States    1/18/09 0:00  1/20/09 11:09  ...  -84.388060   \n",
       "15     Georgia  United States    1/18/09 0:00  1/20/09 11:09  ...  -84.388060   \n",
       "16     Georgia  United States    1/18/09 0:00  1/20/09 11:09  ...  -84.388060   \n",
       "17     Georgia  United States    1/18/09 0:00  1/20/09 11:09  ...  -84.388060   \n",
       "18      Vienna        Austria    1/16/09 1:38   1/24/09 5:39  ...   16.366667   \n",
       "19      Vienna        Austria    1/16/09 1:38   1/24/09 5:39  ...   16.366667   \n",
       "20      Vienna        Austria    1/16/09 1:38   1/24/09 5:39  ...   16.366667   \n",
       "\n",
       "              permalink              company numEmps    category state  \\\n",
       "0             glammedia           Glam Media     NaN         web    CA   \n",
       "1             glammedia           Glam Media     NaN         web    CA   \n",
       "2             glammedia           Glam Media     NaN         web    CA   \n",
       "3             glammedia           Glam Media     NaN         web    CA   \n",
       "4             glammedia           Glam Media     NaN         web    CA   \n",
       "5             glammedia           Glam Media     NaN         web    CA   \n",
       "6             glammedia           Glam Media     NaN         web    CA   \n",
       "7             glammedia           Glam Media     NaN         web    CA   \n",
       "8             glammedia           Glam Media     NaN         web    CA   \n",
       "9             glammedia           Glam Media     NaN         web    CA   \n",
       "10               vitrue               Vitrue     NaN         web    GA   \n",
       "11               vitrue               Vitrue     NaN         web    GA   \n",
       "12      screamingsports     Screaming Sports     NaN         web    GA   \n",
       "13          berecruited          beRecruited     NaN         web    GA   \n",
       "14                  mfg                  MFG     NaN         web    GA   \n",
       "15                  mfg                  MFG     NaN         web    GA   \n",
       "16                  mfg                  MFG     NaN         web    GA   \n",
       "17  scintella-solutions  Scintella Solutions     2.0  consulting    GA   \n",
       "18             parature             Parature   100.0    software    VA   \n",
       "19             parature             Parature   100.0    software    VA   \n",
       "20               appian               Appian   120.0    software    VA   \n",
       "\n",
       "   fundedDate raisedAmt  raisedCurrency round  \n",
       "0    1-Jul-04   1100000             USD     a  \n",
       "1    1-Jul-05  10000000             USD     b  \n",
       "2    1-Dec-06  18500000             USD     c  \n",
       "3    1-Feb-08  65000000             USD     d  \n",
       "4    1-Feb-08  20000000             USD     d  \n",
       "5    1-Jul-04   1100000             USD     a  \n",
       "6    1-Jul-05  10000000             USD     b  \n",
       "7    1-Dec-06  18500000             USD     c  \n",
       "8    1-Feb-08  65000000             USD     d  \n",
       "9    1-Feb-08  20000000             USD     d  \n",
       "10   1-Oct-07  10000000             USD     b  \n",
       "11   1-May-06   2200000             USD  seed  \n",
       "12   1-Jul-07   1250000             USD     a  \n",
       "13   1-Nov-07   1200000             USD     a  \n",
       "14   1-Sep-05  14000000             USD     a  \n",
       "15   1-Jan-07   4000000             USD     c  \n",
       "16   1-Jan-08  26000000             USD     d  \n",
       "17  30-Apr-08     10000             USD  seed  \n",
       "18   5-Jul-06  13500000             USD     a  \n",
       "19   7-May-08  16000000             USD     b  \n",
       "20  21-Jul-08  10000000             USD     a  \n",
       "\n",
       "[21 rows x 21 columns]"
      ]
     },
     "execution_count": 10,
     "metadata": {},
     "output_type": "execute_result"
    }
   ],
   "source": [
    "sales = pd.read_csv('sales2009.csv')\n",
    "sales2 = pd.read_csv('sales2.csv')\n",
    "sales.shape\n",
    "sales.iloc[5:15]\n",
    "sales.city[5:15]\n",
    "# sales2.loc[5:15, 'city':'round']\n",
    "pd.merge(sales,sales2,on=\"city\")"
   ]
  },
  {
   "cell_type": "code",
   "execution_count": 11,
   "metadata": {},
   "outputs": [
    {
     "name": "stdout",
     "output_type": "stream",
     "text": [
      "    1   2   3   4\n",
      "0   3  53  10  65\n",
      "1  23   4   5   7\n",
      "2  56   2  22  35\n",
      "3   0   2  10   0\n",
      "    2   3\n",
      "0  53  10\n",
      "1   4   5\n",
      "2   2  22\n",
      "3   2  10\n",
      "    2   3  new\n",
      "0  53  10   63\n",
      "1   4   5    9\n",
      "2   2  22   24\n",
      "3   2  10   12\n"
     ]
    },
    {
     "name": "stderr",
     "output_type": "stream",
     "text": [
      "/home/xelpmoc/.local/lib/python2.7/site-packages/ipykernel_launcher.py:10: SettingWithCopyWarning: \n",
      "A value is trying to be set on a copy of a slice from a DataFrame.\n",
      "Try using .loc[row_indexer,col_indexer] = value instead\n",
      "\n",
      "See the caveats in the documentation: http://pandas.pydata.org/pandas-docs/stable/indexing.html#indexing-view-versus-copy\n",
      "  # Remove the CWD from sys.path while we load stuff.\n"
     ]
    }
   ],
   "source": [
    "data = pd.read_csv(\"matrix1.csv\")\n",
    "df1=data\n",
    "print df1\n",
    "# take values over the column axis. \n",
    "\n",
    "#df1.take([0, 1, 2], axis = 0)\n",
    "df_temp=df1.iloc[:,1:3]\n",
    "print(df_temp)\n",
    "x=np.sum(df_temp.values,axis=1)\n",
    "df_temp['new']=x\n",
    "print(df_temp)\n",
    "df_temp.to_csv(\"../../../file.csv\",index=False)"
   ]
  },
  {
   "cell_type": "code",
   "execution_count": 12,
   "metadata": {},
   "outputs": [
    {
     "data": {
      "text/plain": [
       "['matrix2.csv',\n",
       " 'test.py',\n",
       " 'matrix1.csv',\n",
       " 'sales2009.csv',\n",
       " '.git',\n",
       " 'Untitled.ipynb',\n",
       " 'python1.ipynb',\n",
       " 'sales2.csv',\n",
       " '.ipynb_checkpoints']"
      ]
     },
     "execution_count": 12,
     "metadata": {},
     "output_type": "execute_result"
    }
   ],
   "source": [
    "import os\n",
    "os.listdir('../../../')\n",
    "os.listdir('.')"
   ]
  },
  {
   "cell_type": "code",
   "execution_count": 9,
   "metadata": {},
   "outputs": [
    {
     "name": "stdout",
     "output_type": "stream",
     "text": [
      "     State State_code  Score\n",
      "0  Arizona         AZ     62\n",
      "1  Georgia         GG     47\n",
      "2  Newyork         NY     55\n",
      "3  Indiana         IN     74\n",
      "4  Florida         SL     31\n"
     ]
    },
    {
     "data": {
      "text/plain": [
       "State_code    AZ\n",
       "Score         62\n",
       "Name: 0, dtype: object"
      ]
     },
     "execution_count": 9,
     "metadata": {},
     "output_type": "execute_result"
    }
   ],
   "source": [
    "df1 = {\n",
    "    'State':['Arizona','Georgia','Newyork','Indiana','Florida'],\n",
    "    'State_code':['AZ','GG','NY','IN','SL'],\n",
    "   'Score':[62,47,55,74,31]}\n",
    " \n",
    "df1 = pd.DataFrame(df1,columns=['State','State_code','Score'])\n",
    "print(df1)\n",
    "df1.iloc[0,1:3]\n"
   ]
  },
  {
   "cell_type": "code",
   "execution_count": 10,
   "metadata": {},
   "outputs": [
    {
     "data": {
      "text/html": [
       "<div>\n",
       "<style scoped>\n",
       "    .dataframe tbody tr th:only-of-type {\n",
       "        vertical-align: middle;\n",
       "    }\n",
       "\n",
       "    .dataframe tbody tr th {\n",
       "        vertical-align: top;\n",
       "    }\n",
       "\n",
       "    .dataframe thead th {\n",
       "        text-align: right;\n",
       "    }\n",
       "</style>\n",
       "<table border=\"1\" class=\"dataframe\">\n",
       "  <thead>\n",
       "    <tr style=\"text-align: right;\">\n",
       "      <th></th>\n",
       "      <th>State</th>\n",
       "      <th>State_code</th>\n",
       "      <th>Score</th>\n",
       "      <th>new</th>\n",
       "    </tr>\n",
       "  </thead>\n",
       "  <tbody>\n",
       "    <tr>\n",
       "      <th>0</th>\n",
       "      <td>Arizona</td>\n",
       "      <td>AZ</td>\n",
       "      <td>62</td>\n",
       "      <td>Arizona62</td>\n",
       "    </tr>\n",
       "    <tr>\n",
       "      <th>1</th>\n",
       "      <td>Georgia</td>\n",
       "      <td>GG</td>\n",
       "      <td>47</td>\n",
       "      <td>Georgia47</td>\n",
       "    </tr>\n",
       "    <tr>\n",
       "      <th>2</th>\n",
       "      <td>Newyork</td>\n",
       "      <td>NY</td>\n",
       "      <td>55</td>\n",
       "      <td>Newyork55</td>\n",
       "    </tr>\n",
       "    <tr>\n",
       "      <th>3</th>\n",
       "      <td>Indiana</td>\n",
       "      <td>IN</td>\n",
       "      <td>74</td>\n",
       "      <td>Indiana74</td>\n",
       "    </tr>\n",
       "    <tr>\n",
       "      <th>4</th>\n",
       "      <td>Florida</td>\n",
       "      <td>SL</td>\n",
       "      <td>31</td>\n",
       "      <td>Florida31</td>\n",
       "    </tr>\n",
       "  </tbody>\n",
       "</table>\n",
       "</div>"
      ],
      "text/plain": [
       "     State State_code  Score        new\n",
       "0  Arizona         AZ     62  Arizona62\n",
       "1  Georgia         GG     47  Georgia47\n",
       "2  Newyork         NY     55  Newyork55\n",
       "3  Indiana         IN     74  Indiana74\n",
       "4  Florida         SL     31  Florida31"
      ]
     },
     "execution_count": 10,
     "metadata": {},
     "output_type": "execute_result"
    }
   ],
   "source": [
    "attr1= 'State'\n",
    "attr2='Score'\n",
    "df1['new']= df1[attr1]+''+df1[attr2].apply(str)\n",
    "df1"
   ]
  },
  {
   "cell_type": "code",
   "execution_count": 25,
   "metadata": {},
   "outputs": [
    {
     "name": "stdout",
     "output_type": "stream",
     "text": [
      "1 for concatenation \n",
      " 2 for Summation1\n",
      "     State State_code  Score New_concated        new\n",
      "0  Arizona         AZ     62   Arizona AZ  Arizona62\n",
      "1  Georgia         GG     47   Georgia GG  Georgia47\n",
      "2  Newyork         NY     55   Newyork NY  Newyork55\n",
      "3  Indiana         IN     74   Indiana IN  Indiana74\n",
      "4  Florida         SL     31   Florida SL  Florida31\n",
      "concat\n",
      "Name the Attributes u want to concate\n",
      "1st attribute'Score'\n",
      "Name the 2nd attribute'new'\n",
      "Score\n",
      "     State State_code  Score  New_concated        new\n",
      "0  Arizona         AZ     62  62 Arizona62  Arizona62\n",
      "1  Georgia         GG     47  47 Georgia47  Georgia47\n",
      "2  Newyork         NY     55  55 Newyork55  Newyork55\n",
      "3  Indiana         IN     74  74 Indiana74  Indiana74\n",
      "4  Florida         SL     31  31 Florida31  Florida31\n"
     ]
    }
   ],
   "source": [
    "inputval = input(\"1 for concatenation \\n 2 for Summation\")\n",
    "inputval\n",
    "print df1\n",
    "if inputval==1:\n",
    "    print \"concat\"\n",
    "    print \"Name the Attributes u want to concate\"\n",
    "    attr1 = input(\"1st attribute\")\n",
    "    attr2 = input(\"Name the 2nd attribute\")\n",
    "    print attr1\n",
    "    df1['New_concated'] = df1[attr1].apply(str) +' '+ df1[attr2].apply(str)\n",
    "    print(df1)\n",
    "\n",
    "elif inputval==2:\n",
    "    flag = True\n",
    "    print \"sum\"\n",
    "    num=input(\"How many columns to sum\")\n",
    "    for x in range(0,num):\n",
    "        if not np.issubdtype(df1.iloc[:,x].dtype, np.number):\n",
    "            flag = False\n",
    "            break\n",
    "    if flag:print(df1[:,:num].sum(axis=1))\n",
    "    else:print \"Summation cant be done as the cells contain non-integer values\"\n",
    "else:\n",
    "    print \"invalid\"\n",
    "    df1.to_csv('/home/xelpmoc/Desktop/Python/df1.csv', index=False) "
   ]
  },
  {
   "cell_type": "code",
   "execution_count": 24,
   "metadata": {},
   "outputs": [
    {
     "name": "stdout",
     "output_type": "stream",
     "text": [
      "     State State_code  Score        new\n",
      "0  Arizona         AZ     62  Arizona62\n",
      "1  Georgia         GG     47  Georgia47\n",
      "2  Newyork         NY     55  Newyork55\n",
      "3  Indiana         IN     74  Indiana74\n",
      "4  Florida         SL     31  Florida31\n"
     ]
    },
    {
     "data": {
      "text/html": [
       "<div>\n",
       "<style scoped>\n",
       "    .dataframe tbody tr th:only-of-type {\n",
       "        vertical-align: middle;\n",
       "    }\n",
       "\n",
       "    .dataframe tbody tr th {\n",
       "        vertical-align: top;\n",
       "    }\n",
       "\n",
       "    .dataframe thead th {\n",
       "        text-align: right;\n",
       "    }\n",
       "</style>\n",
       "<table border=\"1\" class=\"dataframe\">\n",
       "  <thead>\n",
       "    <tr style=\"text-align: right;\">\n",
       "      <th></th>\n",
       "      <th>State</th>\n",
       "      <th>State_code</th>\n",
       "      <th>Score</th>\n",
       "      <th>new</th>\n",
       "    </tr>\n",
       "  </thead>\n",
       "  <tbody>\n",
       "    <tr>\n",
       "      <th>0</th>\n",
       "      <td>Arizona</td>\n",
       "      <td>AZ</td>\n",
       "      <td>62</td>\n",
       "      <td>Arizona62</td>\n",
       "    </tr>\n",
       "    <tr>\n",
       "      <th>2</th>\n",
       "      <td>Newyork</td>\n",
       "      <td>NY</td>\n",
       "      <td>55</td>\n",
       "      <td>Newyork55</td>\n",
       "    </tr>\n",
       "  </tbody>\n",
       "</table>\n",
       "</div>"
      ],
      "text/plain": [
       "     State State_code  Score        new\n",
       "0  Arizona         AZ     62  Arizona62\n",
       "2  Newyork         NY     55  Newyork55"
      ]
     },
     "execution_count": 24,
     "metadata": {},
     "output_type": "execute_result"
    }
   ],
   "source": [
    "print df1\n",
    "df1['State'] == 'Arizona'\n",
    "fil = df1[(df1['Score'] > 50) & (df1['Score'] < 73) ]\n",
    "fil"
   ]
  },
  {
   "cell_type": "code",
   "execution_count": 66,
   "metadata": {},
   "outputs": [
    {
     "name": "stdout",
     "output_type": "stream",
     "text": [
      "[[ 7  8]\n",
      " [ 2  3]\n",
      " [33 44]\n",
      " [ 9  8]]\n"
     ]
    },
    {
     "data": {
      "text/plain": [
       "1    int64\n",
       "2    int64\n",
       "3    int64\n",
       "4    int64\n",
       "5    int64\n",
       "dtype: object"
      ]
     },
     "execution_count": 66,
     "metadata": {},
     "output_type": "execute_result"
    }
   ],
   "source": [
    "data = pd.read_csv(\"matrix2.csv\")\n",
    "df2=data\n",
    "df2\n",
    "df_temp=df2['3']\n",
    "df_tmp=df2[['3','4']]\n",
    "print(df_tmp.values)\n",
    "y=np.sum(df_tmp.values,axis=1)\n",
    "# df2['5']=x\n",
    "# df2"
   ]
  },
  {
   "cell_type": "code",
   "execution_count": 56,
   "metadata": {},
   "outputs": [
    {
     "data": {
      "text/plain": [
       "array([[ 8, 59, 17, 73],\n",
       "       [32,  5,  7, 10],\n",
       "       [67, 24, 55, 79],\n",
       "       [ 9,  2, 19,  8]])"
      ]
     },
     "execution_count": 56,
     "metadata": {},
     "output_type": "execute_result"
    }
   ],
   "source": [
    "df1.values + df2.values"
   ]
  },
  {
   "cell_type": "code",
   "execution_count": 18,
   "metadata": {},
   "outputs": [
    {
     "data": {
      "text/plain": [
       "'mask,name,weapon\\nred,Raphael,sai\\npurple,Donatello,bo staff\\n'"
      ]
     },
     "execution_count": 18,
     "metadata": {},
     "output_type": "execute_result"
    }
   ],
   "source": [
    "df = pd.DataFrame({'name': ['Raphael', 'Donatello'],\n",
    "                    'mask': ['red', 'purple'],\n",
    "                    'weapon': ['sai', 'bo staff']})\n",
    "df.to_csv(index=False)"
   ]
  },
  {
   "cell_type": "code",
   "execution_count": 76,
   "metadata": {},
   "outputs": [
    {
     "data": {
      "text/plain": [
       "2"
      ]
     },
     "execution_count": 76,
     "metadata": {},
     "output_type": "execute_result"
    }
   ],
   "source": [
    "s1 = pd.Series(['one', 'one1', '1', ''])\n",
    "s1.dtype\n",
    "# Dictionary\n",
    "x={'a':1,'b':2,'c':3}\n",
    "x['b']"
   ]
  },
  {
   "cell_type": "code",
   "execution_count": 84,
   "metadata": {},
   "outputs": [
    {
     "ename": "TypeError",
     "evalue": "'tuple' object does not support item assignment",
     "output_type": "error",
     "traceback": [
      "\u001b[0;31m---------------------------------------------------------------------------\u001b[0m",
      "\u001b[0;31mTypeError\u001b[0m                                 Traceback (most recent call last)",
      "\u001b[0;32m<ipython-input-84-b38b037ba197>\u001b[0m in \u001b[0;36m<module>\u001b[0;34m()\u001b[0m\n\u001b[1;32m      3\u001b[0m \u001b[0;34m\u001b[0m\u001b[0m\n\u001b[1;32m      4\u001b[0m \u001b[0mtuple1\u001b[0m \u001b[0;34m=\u001b[0m \u001b[0;34m(\u001b[0m\u001b[0;36m0\u001b[0m\u001b[0;34m,\u001b[0m \u001b[0;36m1\u001b[0m\u001b[0;34m,\u001b[0m \u001b[0;36m2\u001b[0m\u001b[0;34m,\u001b[0m \u001b[0;36m3\u001b[0m\u001b[0;34m)\u001b[0m\u001b[0;34m\u001b[0m\u001b[0;34m\u001b[0m\u001b[0m\n\u001b[0;32m----> 5\u001b[0;31m \u001b[0mtuple1\u001b[0m\u001b[0;34m[\u001b[0m\u001b[0;36m0\u001b[0m\u001b[0;34m]\u001b[0m \u001b[0;34m=\u001b[0m \u001b[0;34m\"5\"\u001b[0m\u001b[0;34m\u001b[0m\u001b[0;34m\u001b[0m\u001b[0m\n\u001b[0m\u001b[1;32m      6\u001b[0m \u001b[0;32mprint\u001b[0m\u001b[0;34m(\u001b[0m\u001b[0mtuple1\u001b[0m\u001b[0;34m)\u001b[0m\u001b[0;34m\u001b[0m\u001b[0;34m\u001b[0m\u001b[0m\n",
      "\u001b[0;31mTypeError\u001b[0m: 'tuple' object does not support item assignment"
     ]
    }
   ],
   "source": [
    "# Python code to test that \n",
    "# tuples are immutable \n",
    "\t\n",
    "tuple1 = (0, 1, 2, 3) \n",
    "tuple1[0] = \"5\"\n",
    "print(tuple1)\n"
   ]
  },
  {
   "cell_type": "code",
   "execution_count": 53,
   "metadata": {},
   "outputs": [
    {
     "name": "stdout",
     "output_type": "stream",
     "text": [
      "[[114, 160, 60], [74, 97, 73], [119, 157, 112]]\n"
     ]
    }
   ],
   "source": [
    "# input two matrices of size n x m \n",
    "matrix1 = [[12,7,3], \n",
    "\t\t[4 ,5,6], \n",
    "\t\t[7 ,8,9]] \n",
    "matrix2 = [[5,8,1], \n",
    "\t\t[6,7,3], \n",
    "\t\t[4,5,9]] \n",
    "\n",
    "res = [[0 for x in range(3)] for y in range(3)] \n",
    "\n",
    "# explicit for loops \n",
    "for i in range(len(matrix1)): \n",
    "\tfor j in range(len(matrix2[0])): \n",
    "\t\tfor k in range(len(matrix2)): \n",
    "\n",
    "\t\t\t# resulted matrix \n",
    "\t\t\tres[i][j] += matrix1[i][k] * matrix2[k][j] \n",
    "\n",
    "print (res) "
   ]
  },
  {
   "cell_type": "code",
   "execution_count": 91,
   "metadata": {},
   "outputs": [
    {
     "ename": "TypeError",
     "evalue": "unsupported operand type(s) for +: 'int' and 'str'",
     "output_type": "error",
     "traceback": [
      "\u001b[0;31m---------------------------------------------------------------------------\u001b[0m",
      "\u001b[0;31mTypeError\u001b[0m                                 Traceback (most recent call last)",
      "\u001b[0;32m<ipython-input-91-32bacac59a63>\u001b[0m in \u001b[0;36m<module>\u001b[0;34m()\u001b[0m\n\u001b[1;32m      1\u001b[0m \u001b[0ma\u001b[0m\u001b[0;34m=\u001b[0m\u001b[0;36m5\u001b[0m\u001b[0;34m\u001b[0m\u001b[0;34m\u001b[0m\u001b[0m\n\u001b[0;32m----> 2\u001b[0;31m \u001b[0;32mprint\u001b[0m\u001b[0;34m(\u001b[0m\u001b[0ma\u001b[0m \u001b[0;34m+\u001b[0m\u001b[0;34m'\\n'\u001b[0m\u001b[0;34m)\u001b[0m\u001b[0;34m\u001b[0m\u001b[0;34m\u001b[0m\u001b[0m\n\u001b[0m",
      "\u001b[0;31mTypeError\u001b[0m: unsupported operand type(s) for +: 'int' and 'str'"
     ]
    }
   ],
   "source": [
    "a=5\n",
    "print(a +'\\n')"
   ]
  },
  {
   "cell_type": "code",
   "execution_count": 57,
   "metadata": {},
   "outputs": [
    {
     "data": {
      "text/plain": [
       "[[0, 0, 0], [0, 0, 0], [0, 0, 0], [0, 0, 0]]"
      ]
     },
     "execution_count": 57,
     "metadata": {},
     "output_type": "execute_result"
    }
   ],
   "source": [
    "[[0 for x in range(3)] for y in range(4)]"
   ]
  },
  {
   "cell_type": "code",
   "execution_count": 55,
   "metadata": {},
   "outputs": [
    {
     "data": {
      "text/plain": [
       "[[0, 0, 0], [0, 0, 0], [0, 0, 0]]"
      ]
     },
     "execution_count": 55,
     "metadata": {},
     "output_type": "execute_result"
    }
   ],
   "source": [
    "res = [[0 for x in range(3)] for y in range(3)] \n",
    "res"
   ]
  },
  {
   "cell_type": "code",
   "execution_count": 69,
   "metadata": {},
   "outputs": [
    {
     "name": "stdout",
     "output_type": "stream",
     "text": [
      "123\n"
     ]
    }
   ],
   "source": [
    "if np.issubdtype(df2['3'].dtype, np.number) and np.issubdtype(df2['2'].dtype, np.number):\n",
    "    print('123')"
   ]
  },
  {
   "cell_type": "code",
   "execution_count": 62,
   "metadata": {},
   "outputs": [
    {
     "data": {
      "text/plain": [
       "array([[114, 160,  60],\n",
       "       [ 74,  97,  73],\n",
       "       [119, 157, 112]])"
      ]
     },
     "execution_count": 62,
     "metadata": {},
     "output_type": "execute_result"
    }
   ],
   "source": [
    "mul=np.dot(matrix1,matrix2)\n",
    "mul"
   ]
  },
  {
   "cell_type": "code",
   "execution_count": 29,
   "metadata": {},
   "outputs": [
    {
     "data": {
      "text/html": [
       "<div>\n",
       "<style scoped>\n",
       "    .dataframe tbody tr th:only-of-type {\n",
       "        vertical-align: middle;\n",
       "    }\n",
       "\n",
       "    .dataframe tbody tr th {\n",
       "        vertical-align: top;\n",
       "    }\n",
       "\n",
       "    .dataframe thead th {\n",
       "        text-align: right;\n",
       "    }\n",
       "</style>\n",
       "<table border=\"1\" class=\"dataframe\">\n",
       "  <thead>\n",
       "    <tr style=\"text-align: right;\">\n",
       "      <th></th>\n",
       "      <th>1</th>\n",
       "      <th>2</th>\n",
       "      <th>3</th>\n",
       "      <th>4</th>\n",
       "    </tr>\n",
       "  </thead>\n",
       "  <tbody>\n",
       "    <tr>\n",
       "      <th>0</th>\n",
       "      <td>3</td>\n",
       "      <td>53</td>\n",
       "      <td>10.0</td>\n",
       "      <td>65.0</td>\n",
       "    </tr>\n",
       "    <tr>\n",
       "      <th>1</th>\n",
       "      <td>23</td>\n",
       "      <td>4</td>\n",
       "      <td>5.0</td>\n",
       "      <td>NaN</td>\n",
       "    </tr>\n",
       "    <tr>\n",
       "      <th>2</th>\n",
       "      <td>56</td>\n",
       "      <td>2</td>\n",
       "      <td>NaN</td>\n",
       "      <td>35.0</td>\n",
       "    </tr>\n",
       "    <tr>\n",
       "      <th>3</th>\n",
       "      <td>0</td>\n",
       "      <td>2</td>\n",
       "      <td>10.0</td>\n",
       "      <td>0.0</td>\n",
       "    </tr>\n",
       "  </tbody>\n",
       "</table>\n",
       "</div>"
      ],
      "text/plain": [
       "    1   2     3     4\n",
       "0   3  53  10.0  65.0\n",
       "1  23   4   5.0   NaN\n",
       "2  56   2   NaN  35.0\n",
       "3   0   2  10.0   0.0"
      ]
     },
     "execution_count": 29,
     "metadata": {},
     "output_type": "execute_result"
    }
   ],
   "source": [
    "csv=pd.read_csv('matrix1.csv')\n",
    "csv2=pd.read_csv('matrix2.csv'\n",
    "csv=np.matrix\n",
    "nba[\"College\"].fillna(\"No College\", inplace = True)"
   ]
  },
  {
   "cell_type": "code",
   "execution_count": 35,
   "metadata": {},
   "outputs": [
    {
     "data": {
      "text/html": [
       "<div>\n",
       "<style scoped>\n",
       "    .dataframe tbody tr th:only-of-type {\n",
       "        vertical-align: middle;\n",
       "    }\n",
       "\n",
       "    .dataframe tbody tr th {\n",
       "        vertical-align: top;\n",
       "    }\n",
       "\n",
       "    .dataframe thead th {\n",
       "        text-align: right;\n",
       "    }\n",
       "</style>\n",
       "<table border=\"1\" class=\"dataframe\">\n",
       "  <thead>\n",
       "    <tr style=\"text-align: right;\">\n",
       "      <th></th>\n",
       "      <th>1</th>\n",
       "      <th>2</th>\n",
       "      <th>3</th>\n",
       "      <th>4</th>\n",
       "    </tr>\n",
       "  </thead>\n",
       "  <tbody>\n",
       "    <tr>\n",
       "      <th>0</th>\n",
       "      <td>3</td>\n",
       "      <td>53</td>\n",
       "      <td>10</td>\n",
       "      <td>65</td>\n",
       "    </tr>\n",
       "    <tr>\n",
       "      <th>1</th>\n",
       "      <td>23</td>\n",
       "      <td>4</td>\n",
       "      <td>5</td>\n",
       "      <td>100</td>\n",
       "    </tr>\n",
       "    <tr>\n",
       "      <th>2</th>\n",
       "      <td>56</td>\n",
       "      <td>2</td>\n",
       "      <td>100</td>\n",
       "      <td>35</td>\n",
       "    </tr>\n",
       "    <tr>\n",
       "      <th>3</th>\n",
       "      <td>0</td>\n",
       "      <td>2</td>\n",
       "      <td>10</td>\n",
       "      <td>0</td>\n",
       "    </tr>\n",
       "  </tbody>\n",
       "</table>\n",
       "</div>"
      ],
      "text/plain": [
       "    1   2    3    4\n",
       "0   3  53   10   65\n",
       "1  23   4    5  100\n",
       "2  56   2  100   35\n",
       "3   0   2   10    0"
      ]
     },
     "execution_count": 35,
     "metadata": {},
     "output_type": "execute_result"
    }
   ],
   "source": [
    "csv.fillna(\"100\",inplace=False)\n",
    "csv"
   ]
  },
  {
   "cell_type": "code",
   "execution_count": 80,
   "metadata": {},
   "outputs": [
    {
     "ename": "SyntaxError",
     "evalue": "invalid syntax (<ipython-input-80-9bcf5e927394>, line 13)",
     "output_type": "error",
     "traceback": [
      "\u001b[0;36m  File \u001b[0;32m\"<ipython-input-80-9bcf5e927394>\"\u001b[0;36m, line \u001b[0;32m13\u001b[0m\n\u001b[0;31m    print(\"Original Dataframe\" , dfObj, end=\"\\n\")\u001b[0m\n\u001b[0m                                           ^\u001b[0m\n\u001b[0;31mSyntaxError\u001b[0m\u001b[0;31m:\u001b[0m invalid syntax\n"
     ]
    }
   ],
   "source": [
    "    students = [ ('jack', 'Apples' , 34) ,\n",
    "                 ('Riti', 'Mangos'  , 31) ,\n",
    "                 ('Aadi', 'Grapes' , 30) ,\n",
    "                 ('Sonia', 'Apples', 32) ,\n",
    "                 ('Lucy', 'Mangos'  , 33) ,\n",
    "                 ('Mike', 'Apples' , 35)\n",
    "                  ]\n",
    "    \n",
    "    \n",
    "    #Create a DataFrame object\n",
    "    dfObj = pd.DataFrame(students, columns = ['Name' , 'Product', 'Sale']) \n",
    "    \n",
    "    print(\"Original Dataframe\" , dfObj, end=\"\\n\")\n",
    "    \n",
    "    '''\n",
    "    Select Rows based on value in a column\n",
    "    '''\n",
    "    subsetDataFrame = dfObj[dfObj['Product'] == 'Apples']\n",
    "    \n",
    "    print(\"DataFrame with Product : Apples\" , subsetDataFrame, sep ='\\n')\n",
    "    \n",
    "    filteringSeries = dfObj['Product'] == 'Apples'\n",
    "    print(\"Filtering Series\" , filteringSeries, sep='\\n')\n",
    "    \n",
    "    subsetDataFrame = dfObj[filteringSeries]\n",
    "    \n",
    "    print(\"DataFrame with Product : Apples\" , subsetDataFrame, sep='\\n')\n",
    "    \n",
    "    '''\n",
    "    Select Rows based on any of the multiple values in a column\n",
    "    '''\n",
    "    subsetDataFrame = dfObj[dfObj['Product'].isin(['Mangos', 'Grapes']) ]\n",
    "    \n",
    "    print(\"DataFrame with Product : Mangos or Grapes\" , subsetDataFrame, sep='\\n')\n",
    " \n",
    "    '''\n",
    "    Select DataFrame Rows Based on multiple conditions on columns\n",
    "    '''\n",
    "        \n",
    "    filterinfDataframe = dfObj[(dfObj['Sale'] > 30) & (dfObj['Sale'] < 33) ]\n",
    "    \n",
    "    print(\"DataFrame with Sales between 31 to 32\" , filterinfDataframe, sep='\\n')\n",
    "    "
   ]
  },
  {
   "cell_type": "code",
   "execution_count": 60,
   "metadata": {},
   "outputs": [
    {
     "ename": "SyntaxError",
     "evalue": "invalid syntax (<ipython-input-60-2c08e5743ef9>, line 1)",
     "output_type": "error",
     "traceback": [
      "\u001b[0;36m  File \u001b[0;32m\"<ipython-input-60-2c08e5743ef9>\"\u001b[0;36m, line \u001b[0;32m1\u001b[0m\n\u001b[0;31m    print('dfgdg',sep=\"\")\u001b[0m\n\u001b[0m                     ^\u001b[0m\n\u001b[0;31mSyntaxError\u001b[0m\u001b[0;31m:\u001b[0m invalid syntax\n"
     ]
    }
   ],
   "source": [
    "print('dfgdg',sep=\"\")"
   ]
  },
  {
   "cell_type": "code",
   "execution_count": null,
   "metadata": {},
   "outputs": [],
   "source": []
  }
 ],
 "metadata": {
  "kernelspec": {
   "display_name": "Python 3",
   "language": "python",
   "name": "python3"
  },
  "language_info": {
   "codemirror_mode": {
    "name": "ipython",
    "version": 2
   },
   "file_extension": ".py",
   "mimetype": "text/x-python",
   "name": "python",
   "nbconvert_exporter": "python",
   "pygments_lexer": "ipython2",
   "version": "2.7.15+"
  }
 },
 "nbformat": 4,
 "nbformat_minor": 2
}
